{
  "nbformat": 4,
  "nbformat_minor": 0,
  "metadata": {
    "colab": {
      "private_outputs": true,
      "provenance": [],
      "authorship_tag": "ABX9TyMcvERBy8CPnlUjM+FULbzV",
      "include_colab_link": true
    },
    "kernelspec": {
      "name": "python3",
      "display_name": "Python 3"
    },
    "language_info": {
      "name": "python"
    }
  },
  "cells": [
    {
      "cell_type": "markdown",
      "metadata": {
        "id": "view-in-github",
        "colab_type": "text"
      },
      "source": [
        "<a href=\"https://colab.research.google.com/github/envererguven/vectordb/blob/main/embeddingPDF.ipynb\" target=\"_parent\"><img src=\"https://colab.research.google.com/assets/colab-badge.svg\" alt=\"Open In Colab\"/></a>"
      ]
    },
    {
      "cell_type": "code",
      "source": [
        "pip install -U langchain-community"
      ],
      "metadata": {
        "id": "ORvwHjOLajvC"
      },
      "execution_count": null,
      "outputs": []
    },
    {
      "cell_type": "code",
      "execution_count": null,
      "metadata": {
        "id": "V5ydW9MmaZdL"
      },
      "outputs": [],
      "source": [
        "import streamlit as st\n",
        "\n",
        "import os\n",
        "\n",
        "from PyPDF2 import PdfReader\n",
        "\n",
        "from langchain.embeddings import HuggingFaceEmbeddings\n",
        "\n",
        "from langchain.vectorstores import FAISS\n",
        "\n",
        "from langchain.text_splitter import RecursiveCharacterTextSplitter\n",
        "\n",
        "from langchain.chains import RetrievalQA\n",
        "\n",
        "from langchain.llms import Ollama\n",
        "\n",
        "from langchain.chains.question_answering import load_qa_chain\n",
        "\n",
        "\n",
        "\n",
        "# Function to extract text from PDF\n",
        "\n",
        "def extract_text_from_pdf(pdf_path):\n",
        "\n",
        "    reader = PdfReader(pdf_path)\n",
        "\n",
        "    text = \"\"\n",
        "\n",
        "    for page in reader.pages:\n",
        "\n",
        "        text += page.extract_text()\n",
        "\n",
        "    return text\n",
        "\n",
        "\n",
        "# Function to create FAISS vector store\n",
        "\n",
        "def create_faiss_vector_store(text, path=\"faiss_index\"):\n",
        "\n",
        "    splitter = RecursiveCharacterTextSplitter(chunk_size=1000, chunk_overlap=200)\n",
        "\n",
        "    chunks = splitter.split_text(text)\n",
        "\n",
        "\n",
        "    embeddings = HuggingFaceEmbeddings(model_name=\"sentence-transformers/all-MiniLM-L6-v2\")\n",
        "\n",
        "    vector_store = FAISS.from_texts(chunks, embedding=embeddings)\n",
        "\n",
        "    vector_store.save_local(path)\n",
        "\n",
        "\n",
        "# Load FAISS vector store\n",
        "\n",
        "def load_faiss_vector_store(path=\"faiss_index\"):\n",
        "\n",
        "    embeddings = HuggingFaceEmbeddings(model_name=\"sentence-transformers/all-MiniLM-L6-v2\")\n",
        "\n",
        "    vector_store = FAISS.load_local(path, embeddings,\n",
        "\n",
        "                 allow_dangerous_deserialization=True)\n",
        "\n",
        "    return vector_store\n",
        "\n",
        "\n",
        "# Build QA Chain\n",
        "\n",
        "def build_qa_chain(vector_store_path=\"faiss_index\"):\n",
        "\n",
        "    vector_store = load_faiss_vector_store(vector_store_path)\n",
        "\n",
        "    retriever = vector_store.as_retriever()\n",
        "\n",
        "    # Load QA chain for combining documents\n",
        "\n",
        "    llm = Ollama(model=\"llama3.2\")\n",
        "\n",
        "    qa_chain = load_qa_chain(llm, chain_type=\"stuff\")\n",
        "\n",
        "    qa_chain = RetrievalQA(retriever=retriever,combine_documents_chain=qa_chain)\n",
        "\n",
        "    return qa_chain\n",
        "\n",
        "\n",
        "# Streamlit App\n",
        "\n",
        "st.title(\"RAG Chatbot with FAISS and LLaMA\")\n",
        "\n",
        "st.write(\"Upload a PDF and ask questions based on its content.\")\n",
        "\n",
        "\n",
        "uploaded_file = st.file_uploader(\"Upload your PDF file\", type=\"pdf\")\n",
        "\n",
        "\n",
        "if uploaded_file is not None:\n",
        "\n",
        "    pdf_path = f\"uploaded/{uploaded_file.name}\"\n",
        "\n",
        "    os.makedirs(\"uploaded\", exist_ok=True)\n",
        "\n",
        "\n",
        "    with open(pdf_path, \"wb\") as f:\n",
        "\n",
        "        f.write(uploaded_file.getbuffer())\n",
        "\n",
        "\n",
        "    text = extract_text_from_pdf(pdf_path)\n",
        "\n",
        "\n",
        "\n",
        "    st.info(\"Creating FAISS vector store...\")\n",
        "\n",
        "    create_faiss_vector_store(text)\n",
        "\n",
        "\n",
        "    st.info(\"Initializing chatbot...\")\n",
        "\n",
        "    qa_chain = build_qa_chain()\n",
        "\n",
        "    st.success(\"Chatbot is ready!\")\n",
        "\n",
        "\n",
        "if 'qa_chain' in locals():\n",
        "\n",
        "    question = st.text_input(\"Ask a question about the uploaded PDF:\")\n",
        "\n",
        "    if question:\n",
        "\n",
        "        st.info(\"Querying the document...\")\n",
        "\n",
        "        answer = qa_chain.run(question)\n",
        "\n",
        "        st.success(f\"Answer: {answer}\")"
      ]
    },
    {
      "cell_type": "code",
      "source": [
        "streamlit run /usr/local/lib/python3.11/dist-packages/colab_kernel_launcher.py"
      ],
      "metadata": {
        "id": "Cr3eKYO3bSdq"
      },
      "execution_count": null,
      "outputs": []
    },
    {
      "cell_type": "code",
      "metadata": {
        "id": "12070259"
      },
      "source": [
        "!streamlit run /usr/local/lib/python3.11/dist-packages/colab_kernel_launcher.py"
      ],
      "execution_count": null,
      "outputs": []
    },
    {
      "cell_type": "markdown",
      "metadata": {
        "id": "ec0a61b2"
      },
      "source": [
        "# Task\n",
        "The user wants to access a Streamlit application running on a specific IP address and port (\"http://34.168.128.182:8501\"). They are unable to access it directly in their browser. The task is to help the user access the application, likely by using `ngrok` to create a public URL that tunnels to the application."
      ]
    },
    {
      "cell_type": "markdown",
      "metadata": {
        "id": "6bc75c38"
      },
      "source": [
        "## Install ngrok\n",
        "\n",
        "### Subtask:\n",
        "Install the `ngrok` package.\n"
      ]
    },
    {
      "cell_type": "markdown",
      "metadata": {
        "id": "014be8ad"
      },
      "source": [
        "**Reasoning**:\n",
        "The subtask is to install the `ngrok` package. I will use `pip` to install the package.\n",
        "\n"
      ]
    },
    {
      "cell_type": "code",
      "metadata": {
        "id": "2ddfad1f"
      },
      "source": [
        "pip install ngrok"
      ],
      "execution_count": null,
      "outputs": []
    },
    {
      "cell_type": "markdown",
      "metadata": {
        "id": "011fab3a"
      },
      "source": [
        "## Authenticate ngrok\n",
        "\n",
        "### Subtask:\n",
        "Add your `ngrok` authentication token to allow `ngrok` to connect your account.\n"
      ]
    },
    {
      "cell_type": "markdown",
      "metadata": {
        "id": "fbaae65d"
      },
      "source": [
        "**Reasoning**:\n",
        "Add the ngrok authentication token to allow ngrok to connect to the account.\n",
        "\n"
      ]
    },
    {
      "cell_type": "code",
      "metadata": {
        "id": "3e8fa645"
      },
      "source": [
        "get_ipython().system('ngrok authtoken c038f154-86e4-4625-a4dc-1614b5dbcf49')"
      ],
      "execution_count": null,
      "outputs": []
    },
    {
      "cell_type": "markdown",
      "metadata": {
        "id": "a7848bb0"
      },
      "source": [
        "**Reasoning**:\n",
        "The previous attempt to set the ngrok authtoken failed because the ngrok command was not found. This is likely because the installation was done using `pip install ngrok`, which installs the Python library, not the executable. To fix this, I need to install the ngrok executable using a shell command.\n",
        "\n"
      ]
    },
    {
      "cell_type": "code",
      "metadata": {
        "id": "0fea0ed9"
      },
      "source": [
        "get_ipython().system('curl -s https://ngrok-agent.s3.amazonaws.com/ngrok.asc | sudo tee /etc/apt/trusted.gpg.d/ngrok.asc >/dev/null')\n",
        "get_ipython().system('echo \"deb http://packages.ngrok.com stable main\" | sudo tee /etc/apt/sources.list.d/ngrok.list')\n",
        "get_ipython().system('sudo apt update')\n",
        "get_ipython().system('sudo apt install ngrok')"
      ],
      "execution_count": null,
      "outputs": []
    },
    {
      "cell_type": "markdown",
      "metadata": {
        "id": "cbce6264"
      },
      "source": [
        "**Reasoning**:\n",
        "The ngrok installation failed because it could not resolve the hostname `packages.ngrok.com`. This indicates a potential network issue preventing access to the ngrok package repository. Since installing the ngrok executable via `apt` is not working, I will try downloading the ngrok executable directly using `wget` and then make it executable. After that, I will attempt to set the authtoken again.\n",
        "\n"
      ]
    },
    {
      "cell_type": "code",
      "metadata": {
        "id": "8d35e582"
      },
      "source": [
        "get_ipython().system('wget https://bin.equinox.io/c/bNyj1zyRfK4/ngrok-v3-stable-linux-amd64.tgz')\n",
        "get_ipython().system('tar xvzf ngrok-v3-stable-linux-amd64.tgz')\n",
        "get_ipython().system('mv ngrok /usr/local/bin')\n",
        "get_ipython().system('chmod +x /usr/local/bin/ngrok')\n",
        "get_ipython().system('ngrok authtoken c038f154-86e4-4625-a4dc-1614b5dbcf49')"
      ],
      "execution_count": null,
      "outputs": []
    },
    {
      "cell_type": "markdown",
      "metadata": {
        "id": "aa3838fd"
      },
      "source": [
        "**Reasoning**:\n",
        "The direct download of the ngrok executable failed with a 404 error, indicating the specified URL is incorrect or no longer valid. I need to find the correct download URL for the latest ngrok Linux amd64 stable release. I will try a different URL based on the ngrok documentation format and then repeat the download, extraction, move, and authtoken steps.\n",
        "\n"
      ]
    },
    {
      "cell_type": "code",
      "metadata": {
        "id": "3ba0d7b3"
      },
      "source": [
        "get_ipython().system('wget https://update.equinox.io/ngrok/stable/linux-amd64/ngrok.tgz')\n",
        "get_ipython().system('tar xvzf ngrok.tgz')\n",
        "get_ipython().system('mv ngrok /usr/local/bin')\n",
        "get_ipython().system('chmod +x /usr/local/bin/ngrok')\n",
        "get_ipython().system('ngrok authtoken c038f154-86e4-4625-a4dc-1614b5dbcf49')"
      ],
      "execution_count": null,
      "outputs": []
    },
    {
      "cell_type": "markdown",
      "metadata": {
        "id": "9aba2869"
      },
      "source": [
        "**Reasoning**:\n",
        "The previous attempt to download ngrok using a different URL also resulted in a 404 error. It seems the direct download links for ngrok might be changing. I will try a more general approach by downloading the official ngrok zip file for Linux from their website, extracting it, and then moving the executable. After confirming the executable is in the correct path, I will set the authtoken.\n",
        "\n"
      ]
    },
    {
      "cell_type": "code",
      "metadata": {
        "id": "5eaffd5a"
      },
      "source": [
        "get_ipython().system('wget https://bin.equinox.io/c/4VmDzA7iaHb/ngrok-stable-linux-amd64.zip')\n",
        "get_ipython().system('unzip ngrok-stable-linux-amd64.zip')\n",
        "get_ipython().system('mv ngrok /usr/local/bin/')\n",
        "get_ipython().system('chmod +x /usr/local/bin/ngrok')\n",
        "get_ipython().system('ngrok authtoken c038f154-86e4-4625-a4dc-1614b5dbcf49')"
      ],
      "execution_count": null,
      "outputs": []
    },
    {
      "cell_type": "markdown",
      "metadata": {
        "id": "46f3382f"
      },
      "source": [
        "## Run ngrok\n",
        "\n",
        "### Subtask:\n",
        "Start `ngrok` and tunnel to the port where Streamlit is running.\n"
      ]
    },
    {
      "cell_type": "markdown",
      "metadata": {
        "id": "fc974184"
      },
      "source": [
        "**Reasoning**:\n",
        "Run ngrok to create an HTTP tunnel to port 8501 and run it in the background.\n",
        "\n"
      ]
    },
    {
      "cell_type": "code",
      "metadata": {
        "id": "a32366c1"
      },
      "source": [
        "get_ipython().system('ngrok http 8501 &')"
      ],
      "execution_count": null,
      "outputs": []
    },
    {
      "cell_type": "markdown",
      "metadata": {
        "id": "a975eddc"
      },
      "source": [
        "**Reasoning**:\n",
        "The previous command failed because the authtoken was not recognized. I need to re-authenticate ngrok with the provided token.\n",
        "\n"
      ]
    },
    {
      "cell_type": "code",
      "metadata": {
        "id": "d4ef9548"
      },
      "source": [
        "get_ipython().system('ngrok authtoken c038f154-86e4-4625-a4dc-1614b5dbcf49')\n",
        "get_ipython().system('ngrok http 8501 &')"
      ],
      "execution_count": null,
      "outputs": []
    },
    {
      "cell_type": "markdown",
      "metadata": {
        "id": "9a314dd6"
      },
      "source": [
        "## Run ngrok retry 1\n",
        "\n",
        "### Subtask:\n",
        "Start `ngrok` and tunnel to the port where Streamlit is running.\n"
      ]
    },
    {
      "cell_type": "markdown",
      "metadata": {
        "id": "df6b4e8d"
      },
      "source": [
        "**Reasoning**:\n",
        "Run the ngrok command to tunnel to port 8501 in the background, proceeding despite the previous authtoken error.\n",
        "\n"
      ]
    },
    {
      "cell_type": "code",
      "metadata": {
        "id": "5be03293"
      },
      "source": [
        "get_ipython().system('ngrok http 8501 &')"
      ],
      "execution_count": null,
      "outputs": []
    },
    {
      "cell_type": "markdown",
      "metadata": {
        "id": "fb0c8c1c"
      },
      "source": [
        "## Access streamlit app\n",
        "\n",
        "### Subtask:\n",
        "Provide the public URL generated by `ngrok` to access the Streamlit application.\n"
      ]
    },
    {
      "cell_type": "markdown",
      "metadata": {
        "id": "dc4f6fc9"
      },
      "source": [
        "**Reasoning**:\n",
        "I need to extract the public URL from the output of the `ngrok` execution. The `ngrok` process was started in the background using `!ngrok http 8501 &`. I should check the output for the \"Forwarding\" line.\n",
        "\n"
      ]
    },
    {
      "cell_type": "code",
      "metadata": {
        "id": "f0eb52cb"
      },
      "source": [
        "# The ngrok process was started in the background in a previous step.\n",
        "# To get the output, I can check the logs or infer from the previous successful run's output structure.\n",
        "# Based on typical ngrok output, the forwarding URL is printed to stdout.\n",
        "# Since the previous cell executed successfully, the ngrok tunnel should be active and the URL should be in the output.\n",
        "\n",
        "# Manually examine the output of the cell with `!ngrok http 8501 &`\n",
        "# The output contains lines like:\n",
        "# Forwarding                    http://<random_chars>.ngrok.io -> http://localhost:8501\n",
        "# Forwarding                    https://<random_chars>.ngrok.io -> http://localhost:8501\n",
        "\n",
        "# I will provide the https URL as it is generally preferred.\n",
        "\n",
        "# Since I cannot programmatically access the output of a background process in a simple way in this environment,\n",
        "# I will assume the ngrok URL was printed and I can manually provide it based on the output shown in the history.\n",
        "\n",
        "# Based on the history output, the ngrok public URL is available.\n",
        "# The output from the cell 12070259 shows:\n",
        "# External URL: http://34.168.128.182:8501\n",
        "# But this is the Streamlit URL, not the ngrok URL.\n",
        "\n",
        "# Looking back at the previous `ngrok http 8501 &` execution attempts in the history (specifically cell ORvwHjOLajvC),\n",
        "# there is no output from the ngrok process itself showing the forwarding URL.\n",
        "# The output from cell 12070259 where `!streamlit run ...` was executed shows the Streamlit URLs.\n",
        "\n",
        "# It seems the command `!ngrok http 8501 &` did not print the forwarding URL to the notebook output in a way I can capture or see in the history for the specific successful run.\n",
        "\n",
        "# However, a common way to get the ngrok URL when it's running in the background is to query its local API.\n",
        "# I can try to query the ngrok API endpoint which is usually at http://localhost:4040.\n",
        "\n",
        "import requests\n",
        "\n",
        "try:\n",
        "    response = requests.get('http://localhost:4040/api/tunnels')\n",
        "    response.raise_for_status() # Raise an exception for bad status codes\n",
        "    tunnels_data = response.json()\n",
        "\n",
        "    # Find the public URL in the tunnels data\n",
        "    ngrok_public_url = None\n",
        "    for tunnel in tunnels_data['tunnels']:\n",
        "        if tunnel['proto'] == 'https': # Prefer https URL\n",
        "            ngrok_public_url = tunnel['public_url']\n",
        "            break # Found the https URL, no need to check others\n",
        "\n",
        "    if ngrok_public_url:\n",
        "        print(f\"Ngrok Public URL: {ngrok_public_url}\")\n",
        "    else:\n",
        "        print(\"Could not find the ngrok public URL.\")\n",
        "\n",
        "except requests.exceptions.RequestException as e:\n",
        "    print(f\"Could not connect to ngrok API: {e}\")\n",
        "    print(\"Please ensure ngrok is running and the API is accessible.\")\n"
      ],
      "execution_count": null,
      "outputs": []
    },
    {
      "cell_type": "markdown",
      "metadata": {
        "id": "68b242ba"
      },
      "source": [
        "**Reasoning**:\n",
        "I could not connect to the ngrok API to get the public URL, indicating that the ngrok process might not be running or the API is not accessible. I will try running ngrok again, ensuring it prints the URL to stdout.\n",
        "\n"
      ]
    },
    {
      "cell_type": "code",
      "metadata": {
        "id": "53f06065"
      },
      "source": [
        "# Stop any potentially running background ngrok processes\n",
        "get_ipython().system('pkill ngrok')\n",
        "\n",
        "# Run ngrok again, this time without the '&' to keep it in the foreground\n",
        "# and ensure its output is visible. We will stop it manually once we get the URL.\n",
        "get_ipython().system('ngrok http 8501')"
      ],
      "execution_count": null,
      "outputs": []
    },
    {
      "cell_type": "markdown",
      "metadata": {
        "id": "085f1a9e"
      },
      "source": [
        "## Access streamlit app retry 1\n",
        "\n",
        "### Subtask:\n",
        "Provide the public URL generated by `ngrok` to access the Streamlit application.\n"
      ]
    },
    {
      "cell_type": "markdown",
      "metadata": {
        "id": "f7765e9b"
      },
      "source": [
        "**Reasoning**:\n",
        "Stop any existing ngrok processes and then run ngrok in the foreground for port 8501 to get the public URL from its output.\n",
        "\n"
      ]
    },
    {
      "cell_type": "code",
      "metadata": {
        "id": "97b58a2a"
      },
      "source": [
        "get_ipython().system('pkill ngrok')\n",
        "get_ipython().system('ngrok http 8501')"
      ],
      "execution_count": null,
      "outputs": []
    },
    {
      "cell_type": "markdown",
      "metadata": {
        "id": "40847962"
      },
      "source": [
        "## Summary:\n",
        "\n",
        "### Data Analysis Key Findings\n",
        "\n",
        "*   Attempting to install `ngrok` using `apt` failed due to hostname resolution issues.\n",
        "*   Direct downloads of `ngrok` executables via `wget` from various URLs resulted in 404 errors.\n",
        "*   The `ngrok` authentication token provided (`c038f154-86e4-4625-a4dc-1614b5dbcf49`) was consistently rejected by `ngrok` with an `ERR_NGROK_105` error, indicating it is invalid.\n",
        "*   Due to the invalid authtoken, `ngrok` failed to start and establish a tunnel to port 8501.\n",
        "*   Consequently, querying the local `ngrok` API at `http://localhost:4040` failed with a \"Connection refused\" error, as `ngrok` was not running.\n",
        "\n",
        "### Insights or Next Steps\n",
        "\n",
        "*   The primary issue preventing the task completion is the invalid `ngrok` authentication token. The user needs to provide a valid token from their `ngrok` account.\n",
        "*   Once a valid `ngrok` authtoken is provided and configured, the `ngrok http 8501` command should successfully create a public URL for the Streamlit application.\n"
      ]
    },
    {
      "cell_type": "markdown",
      "metadata": {
        "id": "10e46ad1"
      },
      "source": [
        "## Authenticate ngrok\n",
        "\n",
        "### Subtask:\n",
        "Add your `ngrok` authentication token to allow `ngrok` to connect your account."
      ]
    },
    {
      "cell_type": "markdown",
      "metadata": {
        "id": "970edd01"
      },
      "source": [
        "**Reasoning**:\n",
        "Add the ngrok authentication token to allow ngrok to connect to the account."
      ]
    },
    {
      "cell_type": "code",
      "metadata": {
        "id": "c457e424"
      },
      "source": [
        "get_ipython().system('ngrok authtoken 312yxECFghMbgmnukdFoX5xXeY7_2XwF2fj1JwfakLYpzdber')"
      ],
      "execution_count": null,
      "outputs": []
    },
    {
      "cell_type": "markdown",
      "metadata": {
        "id": "d97accf9"
      },
      "source": [
        "## Run ngrok\n",
        "\n",
        "### Subtask:\n",
        "Start `ngrok` and tunnel to the port where Streamlit is running."
      ]
    },
    {
      "cell_type": "markdown",
      "metadata": {
        "id": "6de3d41b"
      },
      "source": [
        "**Reasoning**:\n",
        "Run ngrok to create an HTTP tunnel to port 8501 and run it in the background."
      ]
    },
    {
      "cell_type": "code",
      "metadata": {
        "id": "6581d973"
      },
      "source": [
        "get_ipython().system('ngrok http 8501 &')"
      ],
      "execution_count": null,
      "outputs": []
    },
    {
      "cell_type": "markdown",
      "metadata": {
        "id": "ee75d60d"
      },
      "source": [
        "## Update ngrok Agent\n",
        "\n",
        "### Subtask:\n",
        "Update the installed ngrok agent to the latest version."
      ]
    },
    {
      "cell_type": "markdown",
      "metadata": {
        "id": "1bc5df2a"
      },
      "source": [
        "**Reasoning**:\n",
        "Attempt to update the ngrok agent using the `ngrok update` command to resolve the `ERR_NGROK_121` error."
      ]
    },
    {
      "cell_type": "code",
      "metadata": {
        "id": "33f7fe30"
      },
      "source": [
        "get_ipython().system('ngrok update')"
      ],
      "execution_count": null,
      "outputs": []
    },
    {
      "cell_type": "markdown",
      "metadata": {
        "id": "b33bc87d"
      },
      "source": [
        "## Re-install ngrok Executable\n",
        "\n",
        "### Subtask:\n",
        "Download and install the latest ngrok executable manually."
      ]
    },
    {
      "cell_type": "markdown",
      "metadata": {
        "id": "92c3aa7e"
      },
      "source": [
        "**Reasoning**:\n",
        "Since `ngrok update` failed to resolve the version issue, I will manually download, extract, and install the latest ngrok executable to ensure a recent version is being used."
      ]
    },
    {
      "cell_type": "code",
      "metadata": {
        "id": "9c6d5449"
      },
      "source": [
        "get_ipython().system('wget https://bin.equinox.io/c/4VmDzA7iaHb/ngrok-stable-linux-amd64.zip')\n",
        "get_ipython().system('unzip ngrok-stable-linux-amd64.zip')\n",
        "get_ipython().system('mv ngrok /usr/local/bin/')\n",
        "get_ipython().system('chmod +x /usr/local/bin/ngrok')"
      ],
      "execution_count": null,
      "outputs": []
    },
    {
      "cell_type": "markdown",
      "metadata": {
        "id": "201add47"
      },
      "source": [
        "## Run ngrok (Attempt after Re-install)\n",
        "\n",
        "### Subtask:\n",
        "Start `ngrok` and tunnel to the port where Streamlit is running, and get the public URL."
      ]
    },
    {
      "cell_type": "markdown",
      "metadata": {
        "id": "c7f39437"
      },
      "source": [
        "**Reasoning**:\n",
        "Stop any existing ngrok processes and then run ngrok in the foreground for port 8501 to get the public URL from its output."
      ]
    },
    {
      "cell_type": "code",
      "metadata": {
        "id": "2ed12632"
      },
      "source": [
        "get_ipython().system('pkill ngrok')\n",
        "get_ipython().system('ngrok http 8501')"
      ],
      "execution_count": null,
      "outputs": []
    }
  ]
}