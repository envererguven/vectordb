{
  "nbformat": 4,
  "nbformat_minor": 0,
  "metadata": {
    "colab": {
      "private_outputs": true,
      "provenance": [],
      "authorship_tag": "ABX9TyPeI82Hst4Fq+xqTwCwTmhd",
      "include_colab_link": true
    },
    "kernelspec": {
      "name": "python3",
      "display_name": "Python 3"
    },
    "language_info": {
      "name": "python"
    }
  },
  "cells": [
    {
      "cell_type": "markdown",
      "metadata": {
        "id": "view-in-github",
        "colab_type": "text"
      },
      "source": [
        "<a href=\"https://colab.research.google.com/github/envererguven/vectordb/blob/main/vectordb_chroma_1.ipynb\" target=\"_parent\"><img src=\"https://colab.research.google.com/assets/colab-badge.svg\" alt=\"Open In Colab\"/></a>"
      ]
    },
    {
      "cell_type": "code",
      "execution_count": null,
      "metadata": {
        "id": "rEOv7AuMmewY"
      },
      "outputs": [],
      "source": [
        "pip install chromadb"
      ]
    },
    {
      "cell_type": "code",
      "source": [
        "import chromadb"
      ],
      "metadata": {
        "id": "AJMlmAR_n1Gm"
      },
      "execution_count": null,
      "outputs": []
    },
    {
      "cell_type": "code",
      "source": [
        "chroma_client=chromadb.Client()"
      ],
      "metadata": {
        "id": "3A_DBtKsn668"
      },
      "execution_count": null,
      "outputs": []
    },
    {
      "cell_type": "code",
      "source": [
        "collection=chroma_client.get_or_create_collection(name=\"my_documents\")"
      ],
      "metadata": {
        "id": "yoApMl7XoIpr"
      },
      "execution_count": null,
      "outputs": []
    },
    {
      "cell_type": "code",
      "source": [
        "collection.add(\n",
        "   documents= [\n",
        "       \"This is a document about pineapple\",\n",
        "       \"This is a document about banana\",\n",
        "       \"This is a document about apple\",\n",
        "       \"This is a document about orange\",\n",
        "       \"This is a document about peach\",\n",
        "       \"This is a document about watermelon\",\n",
        "       \"This is a document about grapes\",\n",
        "       \"This is a document about melon\",\n",
        "       \"This is a document about strawberry\",\n",
        "       \"This is a document about kiwi\",\n",
        "       \"This is a document about mango\",\n",
        "       \"This is a document about eggplant\",\n",
        "       \"This is a document about tomato\"\n",
        "   ] ,\n",
        "   ids=[\"id1\",\"id2\", \"id3\",\"id4\",\"id5\", \"id6\",\"id7\",\"id8\", \"id9\",\"id10\",\"id11\"]\n",
        ")"
      ],
      "metadata": {
        "id": "OhkaKl_JoTyj"
      },
      "execution_count": null,
      "outputs": []
    },
    {
      "cell_type": "code",
      "source": [
        "results = collection.query(\n",
        "    query_texts=[\"This is a query document about the climate, agriculture and nature of Africa, which one of the fruits is expected to be found there most ?\"], # Chroma will embed this for you\n",
        "    n_results=3 # how many results to return\n",
        ")\n",
        "print(results)"
      ],
      "metadata": {
        "id": "2cisLmp2pw8i"
      },
      "execution_count": null,
      "outputs": []
    }
  ]
}